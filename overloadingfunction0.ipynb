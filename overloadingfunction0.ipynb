{
  "nbformat": 4,
  "nbformat_minor": 0,
  "metadata": {
    "colab": {
      "provenance": [],
      "authorship_tag": "ABX9TyNTe9EAeIXvaQK4eUonNq15",
      "include_colab_link": true
    },
    "kernelspec": {
      "name": "python3",
      "display_name": "Python 3"
    },
    "language_info": {
      "name": "python"
    }
  },
  "cells": [
    {
      "cell_type": "markdown",
      "metadata": {
        "id": "view-in-github",
        "colab_type": "text"
      },
      "source": [
        "<a href=\"https://colab.research.google.com/github/vaniharave/Principles-of-user-interface-design/blob/main/overloadingfunction0.ipynb\" target=\"_parent\"><img src=\"https://colab.research.google.com/assets/colab-badge.svg\" alt=\"Open In Colab\"/></a>"
      ]
    },
    {
      "cell_type": "code",
      "execution_count": 3,
      "metadata": {
        "colab": {
          "base_uri": "https://localhost:8080/"
        },
        "id": "ggCPAzqGgPrj",
        "outputId": "3ac46c67-7970-4323-b429-05f68f739c45"
      },
      "outputs": [
        {
          "output_type": "stream",
          "name": "stdout",
          "text": [
            "6\n",
            "24\n",
            "7.5\n"
          ]
        }
      ],
      "source": [
        "from multipledispatch import dispatch\n",
        "# passing one parameter\n",
        "@dispatch(int, int)\n",
        "def product(first, second):\n",
        "\tresult = first*second\n",
        "\tprint(result)\n",
        "\n",
        "# passing two parameters\n",
        "@dispatch(int, int, int)\n",
        "def product(first, second, third):\n",
        "\tresult = first * second * third\n",
        "\tprint(result)\n",
        "\n",
        "# you can also pass data type of any value as per requirement\n",
        "@dispatch(float, float, float)\n",
        "def product(first, second, third):\n",
        "\tresult = first * second * third\n",
        "\tprint(result)\n",
        "\n",
        "product(2, 3)\n",
        "product(2,4, 3)\n",
        "product(1.0,2.5,3.0)\n",
        "\n"
      ]
    }
  ]
}